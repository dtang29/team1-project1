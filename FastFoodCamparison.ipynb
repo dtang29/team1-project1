{
 "cells": [
  {
   "cell_type": "code",
   "execution_count": 1,
   "metadata": {},
   "outputs": [],
   "source": [
    "# Dependencies\n",
    "# Dependencies\n",
    "import numpy as np\n",
    "#import tweepy\n",
    "import time\n",
    "import json\n",
    "import requests\n",
    "#from config import consumer_key, consumer_secret, access_token, access_token_secret\n",
    "from config import api_key, gmap_key\n",
    "import matplotlib.pyplot as plt\n",
    "import pandas as pd\n",
    "from pprint import pprint"
   ]
  },
  {
   "cell_type": "code",
   "execution_count": 2,
   "metadata": {},
   "outputs": [
    {
     "name": "stdout",
     "output_type": "stream",
     "text": [
      "[\"McDonald's\" 'Burger King' \"Wendy's\" 'Chick-fil-A' 'Jack in the Box'\n",
      " 'Sonic' 'Dairy Queen' \"Carl's Jr.\" \"Hardee's\" 'White Castle'\n",
      " 'Whataburger' 'In-N-Out Burger']\n"
     ]
    }
   ],
   "source": [
    "#Import Nutrition Facts  from file \n",
    "# load CSV\n",
    "nutr_file = \"Nutrition Data for Fast Food 2017.csv\"\n",
    "nutr_pd = pd.read_csv(nutr_file, encoding='iso-8859-1', low_memory=False)\n",
    "restu_list=nutr_pd.Fast_Food_Restaurant.unique()\n",
    "print(restu_list)"
   ]
  },
  {
   "cell_type": "code",
   "execution_count": 3,
   "metadata": {},
   "outputs": [],
   "source": [
    "#Write function to get city from Id\n",
    "def get_city(business_id):\n",
    "    #Using the business id, run a request via Yelp's Business Lookup to retrieve the city value\n",
    "    yelp_data_id = requests.get(f'https://api.yelp.com/v3/businesses/{business_id}', headers=headers)\n",
    "    yelp_data_id = yelp_data_id.json()\n",
    "    city = yelp_data_id['location']['city']\n",
    "    return city\n",
    "    \n",
    "# #Write function get reviews from Id\n",
    "# def get_reviews(business_id)\n",
    "#     yelp_data_id = requests.get(f'https://api.yelp.com/v3/businesses/{business_id}/reviews', headers=headers)\n",
    "#     yelp_data_id = yelp_data_id.json()"
   ]
  },
  {
   "cell_type": "code",
   "execution_count": null,
   "metadata": {},
   "outputs": [],
   "source": [
    "#Set header for YelpFusion API\n",
    "headers = {'Authorization': 'Bearer {0}'.format(api_key)}\n",
    "\n",
    "#set an empty list to append dictionary of each Fast Food and their rating \n",
    "restaurants_rating = []\n",
    "\n",
    "#Loop through the restaurants to check if it exists in SF\n",
    "for restaurant in restu_list:\n",
    "    #Set parameters\n",
    "    params = {\n",
    "        \"term\": restaurant,\n",
    "        \"location\": \"San Francisco\",\n",
    "        \"state\": \"CA\",\n",
    "        \"country\": \"US\",\n",
    "        \"limit\": 15\n",
    "    }\n",
    "\n",
    "    # Build the endpoint URL (Checks all ice cream shops)\n",
    "    base_url = \"https://api.yelp.com/v3/businesses/search\"\n",
    "\n",
    "    # Run a request to endpoint and convert result to json\n",
    "    yelp_data = requests.get(base_url, params=params, headers=headers)\n",
    "    yelp_data = yelp_data.json()\n",
    "        \n",
    "    #Loop through all the businesses returned and find which restaurants are in SF    \n",
    "    for business in yelp_data['businesses']:\n",
    "\n",
    "        city = get_city(business[\"id\"])\n",
    "        \n",
    "        #Since the results returned are 'best matches', filter out all the restaurants that have the same name and is located in SF\n",
    "        if business['name'] in restaurant and city == \"San Francisco\":\n",
    "            \n",
    "            #Append a dictionary containing the fast food and it's rating\n",
    "            restaurants_rating.append({\"Fast Food\": restaurant,\n",
    "                               \"Rating\": business['rating'],\n",
    "                                \"Latitude\": business['coordinates']['latitude'],\n",
    "                                \"Longitude\": business['coordinates']['longitude']})\n",
    "\n",
    "pprint(restaurants_rating)"
   ]
  },
  {
   "cell_type": "code",
   "execution_count": null,
   "metadata": {},
   "outputs": [],
   "source": [
    "#Create a dataframe from the dictionary \n",
    "restaurant_pd = pd.DataFrame.from_dict(restaurants_rating)\n",
    "\n",
    "#write to csv\n",
    "restaurant_pd.to_csv(\"restaurant_results.csv\", index=False)"
   ]
  },
  {
   "cell_type": "code",
   "execution_count": 4,
   "metadata": {},
   "outputs": [
    {
     "data": {
      "text/html": [
       "<div>\n",
       "<style scoped>\n",
       "    .dataframe tbody tr th:only-of-type {\n",
       "        vertical-align: middle;\n",
       "    }\n",
       "\n",
       "    .dataframe tbody tr th {\n",
       "        vertical-align: top;\n",
       "    }\n",
       "\n",
       "    .dataframe thead th {\n",
       "        text-align: right;\n",
       "    }\n",
       "</style>\n",
       "<table border=\"1\" class=\"dataframe\">\n",
       "  <thead>\n",
       "    <tr style=\"text-align: right;\">\n",
       "      <th></th>\n",
       "      <th>Fast Food</th>\n",
       "      <th>Average Rating</th>\n",
       "      <th>Number of Restaurants</th>\n",
       "    </tr>\n",
       "  </thead>\n",
       "  <tbody>\n",
       "    <tr>\n",
       "      <th>0</th>\n",
       "      <td>In-N-Out Burger</td>\n",
       "      <td>4.00</td>\n",
       "      <td>1</td>\n",
       "    </tr>\n",
       "    <tr>\n",
       "      <th>1</th>\n",
       "      <td>McDonald's</td>\n",
       "      <td>2.32</td>\n",
       "      <td>14</td>\n",
       "    </tr>\n",
       "    <tr>\n",
       "      <th>2</th>\n",
       "      <td>Carl's Jr.</td>\n",
       "      <td>2.00</td>\n",
       "      <td>2</td>\n",
       "    </tr>\n",
       "    <tr>\n",
       "      <th>3</th>\n",
       "      <td>Burger King</td>\n",
       "      <td>1.95</td>\n",
       "      <td>11</td>\n",
       "    </tr>\n",
       "  </tbody>\n",
       "</table>\n",
       "</div>"
      ],
      "text/plain": [
       "         Fast Food Average Rating  Number of Restaurants\n",
       "0  In-N-Out Burger           4.00                      1\n",
       "1       McDonald's           2.32                     14\n",
       "2       Carl's Jr.           2.00                      2\n",
       "3      Burger King           1.95                     11"
      ]
     },
     "execution_count": 4,
     "metadata": {},
     "output_type": "execute_result"
    }
   ],
   "source": [
    "#Read in csv\n",
    "restaurant_pd = pd.read_csv(\"restaurant_results.csv\")\n",
    "\n",
    "#Group by the Fast Food\n",
    "restaurant_group = restaurant_pd.groupby(\"Fast Food\")\n",
    "\n",
    "#Get the average rating for each restaurant\n",
    "average_rating = restaurant_group[\"Rating\"].mean()\n",
    "\n",
    "#Get the number of restaurants\n",
    "num_restaurants = restaurant_group[\"Fast Food\"].count()\n",
    "\n",
    "#Create a new dataframe to hold the average rating and number of restaurants\n",
    "restaurant_df = pd.DataFrame({\"Average Rating\": average_rating.map(\"{:,.2f}\".format),\n",
    "                   \"Number of Restaurants\": num_restaurants})\n",
    "\n",
    "#Sort by Average Rating descending\n",
    "restaurant_df = restaurant_df.sort_values(\"Average Rating\", ascending=0)\n",
    "\n",
    "#Retrieve the columns in the order we want \n",
    "restaurant_df = restaurant_df[[\"Average Rating\",\"Number of Restaurants\"]]\n",
    "\n",
    "#reset the index\n",
    "restaurant_df = restaurant_df.reset_index()\n",
    "\n",
    "#Print out the final dataframe\n",
    "restaurant_df"
   ]
  },
  {
   "cell_type": "code",
   "execution_count": 51,
   "metadata": {},
   "outputs": [
    {
     "data": {
      "text/html": [
       "<div>\n",
       "<style scoped>\n",
       "    .dataframe tbody tr th:only-of-type {\n",
       "        vertical-align: middle;\n",
       "    }\n",
       "\n",
       "    .dataframe tbody tr th {\n",
       "        vertical-align: top;\n",
       "    }\n",
       "\n",
       "    .dataframe thead th {\n",
       "        text-align: right;\n",
       "    }\n",
       "</style>\n",
       "<table border=\"1\" class=\"dataframe\">\n",
       "  <thead>\n",
       "    <tr style=\"text-align: right;\">\n",
       "      <th></th>\n",
       "      <th>Fast Food</th>\n",
       "      <th>Latitude</th>\n",
       "      <th>Longitude</th>\n",
       "      <th>Rating</th>\n",
       "    </tr>\n",
       "  </thead>\n",
       "  <tbody>\n",
       "    <tr>\n",
       "      <th>0</th>\n",
       "      <td>McDonald's</td>\n",
       "      <td>37.769038</td>\n",
       "      <td>-122.453208</td>\n",
       "      <td>2.0</td>\n",
       "    </tr>\n",
       "    <tr>\n",
       "      <th>1</th>\n",
       "      <td>McDonald's</td>\n",
       "      <td>37.752127</td>\n",
       "      <td>-122.418215</td>\n",
       "      <td>3.0</td>\n",
       "    </tr>\n",
       "    <tr>\n",
       "      <th>2</th>\n",
       "      <td>McDonald's</td>\n",
       "      <td>37.779871</td>\n",
       "      <td>-122.431717</td>\n",
       "      <td>2.5</td>\n",
       "    </tr>\n",
       "    <tr>\n",
       "      <th>3</th>\n",
       "      <td>McDonald's</td>\n",
       "      <td>37.765415</td>\n",
       "      <td>-122.407949</td>\n",
       "      <td>2.0</td>\n",
       "    </tr>\n",
       "    <tr>\n",
       "      <th>4</th>\n",
       "      <td>McDonald's</td>\n",
       "      <td>37.742080</td>\n",
       "      <td>-122.405190</td>\n",
       "      <td>2.5</td>\n",
       "    </tr>\n",
       "  </tbody>\n",
       "</table>\n",
       "</div>"
      ],
      "text/plain": [
       "    Fast Food   Latitude   Longitude  Rating\n",
       "0  McDonald's  37.769038 -122.453208     2.0\n",
       "1  McDonald's  37.752127 -122.418215     3.0\n",
       "2  McDonald's  37.779871 -122.431717     2.5\n",
       "3  McDonald's  37.765415 -122.407949     2.0\n",
       "4  McDonald's  37.742080 -122.405190     2.5"
      ]
     },
     "execution_count": 51,
     "metadata": {},
     "output_type": "execute_result"
    }
   ],
   "source": [
    "import gmaps\n",
    "from config import gmap_key\n",
    "#Read in csv\n",
    "restaurant_pd = pd.read_csv(\"restaurant_results.csv\")\n",
    "restaurant_pd.head()"
   ]
  },
  {
   "cell_type": "code",
   "execution_count": 69,
   "metadata": {},
   "outputs": [],
   "source": [
    "mcdonalds = restaurant_pd.loc[restaurant_pd[\"Fast Food\"] == \"McDonald's\"]\n",
    "innout = restaurant_pd.loc[restaurant_pd[\"Fast Food\"] == \"In-N-Out Burger\"]\n",
    "carlsjr = restaurant_pd.loc[restaurant_pd[\"Fast Food\"] == \"Carl's Jr.\"]\n",
    "burgerking = restaurant_pd.loc[restaurant_pd[\"Fast Food\"] == \"Burger King\"]\n",
    "\n",
    "mcdonalds_locations = mcdonalds[[\"Latitude\", \"Longitude\"]]\n",
    "innout_locations = innout[[\"Latitude\", \"Longitude\"]]\n",
    "carlsjr_locations = carlsjr[[\"Latitude\", \"Longitude\"]]\n",
    "burgerking_locations = burgerking[[\"Latitude\", \"Longitude\"]]"
   ]
  },
  {
   "cell_type": "code",
   "execution_count": 70,
   "metadata": {
    "scrolled": true
   },
   "outputs": [
    {
     "data": {
      "application/vnd.jupyter.widget-view+json": {
       "model_id": "1f2f225ddc5942c4aff91a84dd9e91e9",
       "version_major": 2,
       "version_minor": 0
      },
      "text/html": [
       "<p>Failed to display Jupyter Widget of type <code>Figure</code>.</p>\n",
       "<p>\n",
       "  If you're reading this message in the Jupyter Notebook or JupyterLab Notebook, it may mean\n",
       "  that the widgets JavaScript is still loading. If this message persists, it\n",
       "  likely means that the widgets JavaScript library is either not installed or\n",
       "  not enabled. See the <a href=\"https://ipywidgets.readthedocs.io/en/stable/user_install.html\">Jupyter\n",
       "  Widgets Documentation</a> for setup instructions.\n",
       "</p>\n",
       "<p>\n",
       "  If you're reading this message in another frontend (for example, a static\n",
       "  rendering on GitHub or <a href=\"https://nbviewer.jupyter.org/\">NBViewer</a>),\n",
       "  it may mean that your frontend doesn't currently support widgets.\n",
       "</p>\n"
      ],
      "text/plain": [
       "Figure(layout=FigureLayout(height='420px'))"
      ]
     },
     "metadata": {},
     "output_type": "display_data"
    }
   ],
   "source": [
    "gmaps.configure(api_key=gmap_key)\n",
    "\n",
    "#Set a base map of SF\n",
    "san_francisco_coordinates = (37.773972, -122.431297)\n",
    "fig = gmaps.figure(center=san_francisco_coordinates, zoom_level=11.5)\n",
    "\n",
    "#Add mcdonalds locations\n",
    "mcdonalds_layer = gmaps.symbol_layer(\n",
    "            mcdonalds_locations, fill_color=\"green\", stroke_color=\"green\", scale=4, fill_opacity=0.3)\n",
    "fig.add_layer(mcdonalds_layer)\n",
    "\n",
    "#Add In N Out Locations\n",
    "innout_layer = gmaps.symbol_layer(\n",
    "            innout_locations, fill_color=\"red\", stroke_color=\"red\", scale=4, fill_opacity=0.3)\n",
    "fig.add_layer(innout_layer)\n",
    "\n",
    "#Add CarlsJr Locations\n",
    "carlsjr_layer = gmaps.symbol_layer(\n",
    "            carlsjr_locations, fill_color=\"black\", stroke_color=\"black\", scale=4, fill_opacity=0.3)\n",
    "fig.add_layer(carlsjr_layer)\n",
    "\n",
    "#Add BurgerKing Locations\n",
    "burgerking_layer = gmaps.symbol_layer(\n",
    "            burgerking_locations,fill_color=\"blue\", stroke_color=\"blue\", scale=4, fill_opacity=0.2)\n",
    "fig.add_layer(burgerking_layer)\n",
    "\n",
    "#fig.add_layer(gmaps.heatmap_layer(mcdonalds_locations))\n",
    "fig\n",
    "\n"
   ]
  },
  {
   "cell_type": "code",
   "execution_count": null,
   "metadata": {},
   "outputs": [],
   "source": []
  }
 ],
 "metadata": {
  "kernelspec": {
   "display_name": "Python [conda env:PythonData]",
   "language": "python",
   "name": "conda-env-PythonData-py"
  },
  "language_info": {
   "codemirror_mode": {
    "name": "ipython",
    "version": 3
   },
   "file_extension": ".py",
   "mimetype": "text/x-python",
   "name": "python",
   "nbconvert_exporter": "python",
   "pygments_lexer": "ipython3",
   "version": "3.6.4"
  }
 },
 "nbformat": 4,
 "nbformat_minor": 2
}

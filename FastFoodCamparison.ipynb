{
 "cells": [
  {
   "cell_type": "code",
   "execution_count": 9,
   "metadata": {},
   "outputs": [],
   "source": [
    "# Dependencies\n",
    "# Dependencies\n",
    "import numpy as np\n",
    "#import tweepy\n",
    "import time\n",
    "import json\n",
    "import requests\n",
    "#from config import consumer_key, consumer_secret, access_token, access_token_secret\n",
    "from config import api_key, gmap_key\n",
    "import matplotlib.pyplot as plt\n",
    "import pandas as pd\n",
    "from pprint import pprint"
   ]
  },
  {
   "cell_type": "code",
   "execution_count": 4,
   "metadata": {},
   "outputs": [
    {
     "name": "stdout",
     "output_type": "stream",
     "text": [
      "[\"McDonald's\" 'Burger King' \"Wendy's\" 'Chick-fil-A' 'Jack in the Box'\n",
      " 'Sonic' 'Dairy Queen' \"Carl's Jr.\" \"Hardee's\" 'White Castle'\n",
      " 'Whataburger' 'In-N-Out Burger']\n"
     ]
    }
   ],
   "source": [
    "#Import Nutrition Facts  from file \n",
    "# load CSV\n",
    "nutr_file = \"Nutrition Data for Fast Food 2017.csv\"\n",
    "nutr_pd = pd.read_csv(nutr_file, encoding='iso-8859-1', low_memory=False)\n",
    "restu_list=nutr_pd.Fast_Food_Restaurant.unique()\n",
    "print(restu_list)"
   ]
  },
  {
   "cell_type": "code",
   "execution_count": 6,
   "metadata": {},
   "outputs": [
    {
     "name": "stdout",
     "output_type": "stream",
     "text": [
      "[{'Fast Food': \"McDonald's\", 'Rating': 2.0},\n",
      " {'Fast Food': \"McDonald's\", 'Rating': 3.0},\n",
      " {'Fast Food': \"McDonald's\", 'Rating': 2.5},\n",
      " {'Fast Food': \"McDonald's\", 'Rating': 2.0},\n",
      " {'Fast Food': \"McDonald's\", 'Rating': 2.5},\n",
      " {'Fast Food': \"McDonald's\", 'Rating': 4.0},\n",
      " {'Fast Food': \"McDonald's\", 'Rating': 2.0},\n",
      " {'Fast Food': \"McDonald's\", 'Rating': 2.0},\n",
      " {'Fast Food': \"McDonald's\", 'Rating': 3.5},\n",
      " {'Fast Food': \"McDonald's\", 'Rating': 2.5},\n",
      " {'Fast Food': \"McDonald's\", 'Rating': 2.0},\n",
      " {'Fast Food': \"McDonald's\", 'Rating': 1.5},\n",
      " {'Fast Food': \"McDonald's\", 'Rating': 1.0},\n",
      " {'Fast Food': \"McDonald's\", 'Rating': 2.0},\n",
      " {'Fast Food': 'Burger King', 'Rating': 2.0},\n",
      " {'Fast Food': 'Burger King', 'Rating': 2.0},\n",
      " {'Fast Food': 'Burger King', 'Rating': 1.5},\n",
      " {'Fast Food': 'Burger King', 'Rating': 2.0},\n",
      " {'Fast Food': 'Burger King', 'Rating': 1.5},\n",
      " {'Fast Food': 'Burger King', 'Rating': 2.0},\n",
      " {'Fast Food': 'Burger King', 'Rating': 2.0},\n",
      " {'Fast Food': 'Burger King', 'Rating': 2.5},\n",
      " {'Fast Food': 'Burger King', 'Rating': 2.5},\n",
      " {'Fast Food': 'Burger King', 'Rating': 2.0},\n",
      " {'Fast Food': 'Burger King', 'Rating': 1.5},\n",
      " {'Fast Food': \"Carl's Jr.\", 'Rating': 2.0},\n",
      " {'Fast Food': \"Carl's Jr.\", 'Rating': 2.0},\n",
      " {'Fast Food': 'In-N-Out Burger', 'Rating': 4.0}]\n"
     ]
    }
   ],
   "source": [
    "####This Block of Code will take a couple minutes to run############\n",
    "\n",
    "#Set header for YelpFusion API\n",
    "headers = {'Authorization': 'Bearer {0}'.format(api_key)}\n",
    "\n",
    "#set an empty list to append dictionary of each Fast Food and their rating \n",
    "restaurants_rating = []\n",
    "\n",
    "#Loop through the restaurants to check if it exists in SF\n",
    "for restaurant in restu_list:\n",
    "    \n",
    "    #Set parameters\n",
    "    params = {\n",
    "        \"term\": restaurant,\n",
    "        \"location\": \"San Francisco\",\n",
    "        \"state\": \"CA\",\n",
    "        \"country\": \"US\",\n",
    "        \"limit\": 15\n",
    "    }\n",
    "\n",
    "    # Build the endpoint URL (Checks all ice cream shops)\n",
    "    base_url = \"https://api.yelp.com/v3/businesses/search\"\n",
    "\n",
    "    # Run a request to endpoint and convert result to json\n",
    "    yelp_data = requests.get(base_url, params=params, headers=headers)\n",
    "    yelp_data = yelp_data.json()\n",
    "        \n",
    "    #Loop through all the businesses returned and find which restaurants are in SF    \n",
    "    for business in yelp_data['businesses']:\n",
    "\n",
    "        city = get_city(business[\"id\"])\n",
    "        \n",
    "        #Since the results returned are 'best matches', filter out all the restaurants that have the same name and is located in SF\n",
    "        if business['name'] in restaurant and business['is_closed'] == False and city == \"San Francisco\":\n",
    "            \n",
    "            #Append a dictionary containing the fast food and it's rating\n",
    "            restaurants_rating.append({\"Fast Food\": restaurant,\n",
    "                               \"Rating\": business['rating'],\n",
    "                                \"Latitude\": business['coordinates']['latitude'],\n",
    "                                \"Longitude\": business['coordinates']['longitude']})\n",
    "\n",
    "pprint(restaurants_rating)"
   ]
  },
  {
   "cell_type": "code",
   "execution_count": 5,
   "metadata": {},
   "outputs": [
    {
     "ename": "NameError",
     "evalue": "name 'restaurants_rating' is not defined",
     "output_type": "error",
     "traceback": [
      "\u001b[0;31m---------------------------------------------------------------------------\u001b[0m",
      "\u001b[0;31mNameError\u001b[0m                                 Traceback (most recent call last)",
      "\u001b[0;32m<ipython-input-5-2a8258f91883>\u001b[0m in \u001b[0;36m<module>\u001b[0;34m()\u001b[0m\n\u001b[1;32m      1\u001b[0m \u001b[0;31m#Create a dataframe from the dictionary\u001b[0m\u001b[0;34m\u001b[0m\u001b[0;34m\u001b[0m\u001b[0m\n\u001b[0;32m----> 2\u001b[0;31m \u001b[0mrestaurant_pd\u001b[0m \u001b[0;34m=\u001b[0m \u001b[0mpd\u001b[0m\u001b[0;34m.\u001b[0m\u001b[0mDataFrame\u001b[0m\u001b[0;34m.\u001b[0m\u001b[0mfrom_dict\u001b[0m\u001b[0;34m(\u001b[0m\u001b[0mrestaurants_rating\u001b[0m\u001b[0;34m)\u001b[0m\u001b[0;34m\u001b[0m\u001b[0m\n\u001b[0m\u001b[1;32m      3\u001b[0m \u001b[0;34m\u001b[0m\u001b[0m\n\u001b[1;32m      4\u001b[0m \u001b[0;31m#write to csv\u001b[0m\u001b[0;34m\u001b[0m\u001b[0;34m\u001b[0m\u001b[0m\n\u001b[1;32m      5\u001b[0m \u001b[0mrestaurant_pd\u001b[0m\u001b[0;34m.\u001b[0m\u001b[0mto_csv\u001b[0m\u001b[0;34m(\u001b[0m\u001b[0;34m\"restaurant_results.csv\"\u001b[0m\u001b[0;34m,\u001b[0m \u001b[0mindex\u001b[0m\u001b[0;34m=\u001b[0m\u001b[0;32mFalse\u001b[0m\u001b[0;34m)\u001b[0m\u001b[0;34m\u001b[0m\u001b[0m\n",
      "\u001b[0;31mNameError\u001b[0m: name 'restaurants_rating' is not defined"
     ]
    }
   ],
   "source": [
    "#Create a dataframe from the dictionary \n",
    "restaurant_pd = pd.DataFrame.from_dict(restaurants_rating)\n",
    "\n",
    "#write to csv\n",
    "restaurant_pd.to_csv(\"restaurant_results.csv\", index=False)"
   ]
  },
  {
   "cell_type": "code",
   "execution_count": 6,
   "metadata": {},
   "outputs": [
    {
     "data": {
      "text/html": [
       "<div>\n",
       "<style scoped>\n",
       "    .dataframe tbody tr th:only-of-type {\n",
       "        vertical-align: middle;\n",
       "    }\n",
       "\n",
       "    .dataframe tbody tr th {\n",
       "        vertical-align: top;\n",
       "    }\n",
       "\n",
       "    .dataframe thead th {\n",
       "        text-align: right;\n",
       "    }\n",
       "</style>\n",
       "<table border=\"1\" class=\"dataframe\">\n",
       "  <thead>\n",
       "    <tr style=\"text-align: right;\">\n",
       "      <th></th>\n",
       "      <th>Fast Food</th>\n",
       "      <th>Average Rating</th>\n",
       "      <th>Number of Restaurants</th>\n",
       "    </tr>\n",
       "  </thead>\n",
       "  <tbody>\n",
       "    <tr>\n",
       "      <th>0</th>\n",
       "      <td>In-N-Out Burger</td>\n",
       "      <td>4.00</td>\n",
       "      <td>1</td>\n",
       "    </tr>\n",
       "    <tr>\n",
       "      <th>1</th>\n",
       "      <td>McDonald's</td>\n",
       "      <td>2.46</td>\n",
       "      <td>12</td>\n",
       "    </tr>\n",
       "    <tr>\n",
       "      <th>2</th>\n",
       "      <td>Carl's Jr.</td>\n",
       "      <td>2.00</td>\n",
       "      <td>1</td>\n",
       "    </tr>\n",
       "    <tr>\n",
       "      <th>3</th>\n",
       "      <td>Burger King</td>\n",
       "      <td>1.95</td>\n",
       "      <td>10</td>\n",
       "    </tr>\n",
       "  </tbody>\n",
       "</table>\n",
       "</div>"
      ],
      "text/plain": [
       "         Fast Food Average Rating  Number of Restaurants\n",
       "0  In-N-Out Burger           4.00                      1\n",
       "1       McDonald's           2.46                     12\n",
       "2       Carl's Jr.           2.00                      1\n",
       "3      Burger King           1.95                     10"
      ]
     },
     "execution_count": 6,
     "metadata": {},
     "output_type": "execute_result"
    }
   ],
   "source": [
    "#Read in csv\n",
    "restaurant_pd = pd.read_csv(\"restaurant_results.csv\")\n",
    "\n",
    "#Group by the Fast Food\n",
    "restaurant_group = restaurant_pd.groupby(\"Fast Food\")\n",
    "\n",
    "#Get the average rating for each restaurant\n",
    "average_rating = restaurant_group[\"Rating\"].mean()\n",
    "\n",
    "#Get the number of restaurants\n",
    "num_restaurants = restaurant_group[\"Fast Food\"].count()\n",
    "\n",
    "#Create a new dataframe to hold the average rating and number of restaurants\n",
    "restaurant_df = pd.DataFrame({\"Average Rating\": average_rating.map(\"{:,.2f}\".format),\n",
    "                   \"Number of Restaurants\": num_restaurants})\n",
    "\n",
    "#Sort by Average Rating descending\n",
    "restaurant_df = restaurant_df.sort_values(\"Average Rating\", ascending=0)\n",
    "\n",
    "#Retrieve the columns in the order we want \n",
    "restaurant_df = restaurant_df[[\"Average Rating\",\"Number of Restaurants\"]]\n",
    "\n",
    "#reset the index\n",
    "restaurant_df = restaurant_df.reset_index()\n",
    "\n",
    "#Print out the final dataframe\n",
    "restaurant_df"
   ]
  },
  {
   "cell_type": "code",
   "execution_count": 87,
   "metadata": {},
   "outputs": [
    {
     "data": {
      "image/png": "[encoded data removed]",
      "text/plain": [
       "<Figure size 432x288 with 1 Axes>"
      ]
     },
     "metadata": {},
     "output_type": "display_data"
    }
   ],
   "source": [
    "#Plot Pie Chart\n",
    "restaurant_df\n",
    "fast_food = restaurant_df[\"Fast Food\"]\n",
    "num_restaurants = restaurant_df[\"Number of Restaurants\"]\n",
    "x_axis = np.arange(len(num_restaurants))\n",
    "\n",
    "colors = ['#ff9999','#66b3ff','#99ff99','#ffcc99']\n",
    "colors_rating = ['#c2c2f0','#ffb3e6']\n",
    "explode = (0,0.1,0,0)\n",
    "\n",
    "plt.pie(num_restaurants, explode=explode, labels=fast_food, colors=colors,\n",
    "        autopct=\"%1.1f%%\", shadow=True, startangle=120, pctdistance=0.75, radius=2)\n",
    "\n",
    "plt.title(\"SF Fast Food Restaurants Distribution\")\n",
    "\n",
    "# Create axes which are equal so we have a perfect circle\n",
    "plt.axis(\"equal\")\n",
    "\n",
    "#draw circle\n",
    "centre_circle = plt.Circle((0,0),0.50,fc='white')\n",
    "fig = plt.gcf()\n",
    "fig.gca().add_artist(centre_circle)\n",
    "plt.tight_layout()\n",
    "\n",
    "\n",
    "# Save an image of our chart and print the final product to the screen\n",
    "plt.savefig(\"SF_restaurants.png\")\n",
    "plt.show()\n",
    "\n"
   ]
  },
  {
   "cell_type": "code",
   "execution_count": 10,
   "metadata": {},
   "outputs": [
    {
     "data": {
      "application/vnd.jupyter.widget-view+json": {
       "model_id": "4b471bef3062457da157635067e283a0",
       "version_major": 2,
       "version_minor": 0
      },
      "text/html": [
       "<p>Failed to display Jupyter Widget of type <code>VBox</code>.</p>\n",
       "<p>\n",
       "  If you're reading this message in the Jupyter Notebook or JupyterLab Notebook, it may mean\n",
       "  that the widgets JavaScript is still loading. If this message persists, it\n",
       "  likely means that the widgets JavaScript library is either not installed or\n",
       "  not enabled. See the <a href=\"https://ipywidgets.readthedocs.io/en/stable/user_install.html\">Jupyter\n",
       "  Widgets Documentation</a> for setup instructions.\n",
       "</p>\n",
       "<p>\n",
       "  If you're reading this message in another frontend (for example, a static\n",
       "  rendering on GitHub or <a href=\"https://nbviewer.jupyter.org/\">NBViewer</a>),\n",
       "  it may mean that your frontend doesn't currently support widgets.\n",
       "</p>\n"
      ],
      "text/plain": [
       "VBox(children=(Figure(layout=FigureLayout(border='1px solid black', height='400px', padding='1px', width='400px')), HBox(children=(HTML(value='<span style=\"color: #1f77b4; font-size: 2em; vertical-align: bottom;\">&#9679;</span> McDonald\\'s'), HTML(value='<span style=\"color: #ff7f0e; font-size: 2em; vertical-align: bottom;\">&#9679;</span> Burger King'), HTML(value='<span style=\"color: #2ca02c; font-size: 2em; vertical-align: bottom;\">&#9679;</span> Carl\\'s Jr.'), HTML(value='<span style=\"color: #d62728; font-size: 2em; vertical-align: bottom;\">&#9679;</span> In-N-Out Burger')), layout=Layout(justify_content='space-between', width='400px'))))"
      ]
     },
     "metadata": {},
     "output_type": "display_data"
    }
   ],
   "source": [
    "#borrowed code and tweaked it from https://github.com/pbugnion/gmaps/issues/210\n",
    "\n",
    "#Import dependencies to print map\n",
    "from matplotlib.cm import tab10 # Use the matplotlib tab10 colormap\n",
    "from matplotlib.colors import to_hex\n",
    "import ipywidgets as widgets\n",
    "import gmaps\n",
    "\n",
    "#Set the api_key to the API key retrieved from google maps\n",
    "gmaps.configure(api_key=gmap_key)\n",
    "\n",
    "data = restaurant_pd[[\"Fast Food\", \"Latitude\", \"Longitude\"]]\n",
    "colors = {restaurant: to_hex(tab10(irestaurant)) for irestaurant, restaurant in enumerate(restaurant_pd[\"Fast Food\"].unique())} # generate a colour for each restaurant\n",
    "\n",
    "# Some CSS hackery to draw a circle of that color next to the year\n",
    "legend_template = '<span style=\"color: {color}; font-size: 2em; vertical-align: bottom;\">&#9679;</span> {restaurant}'\n",
    "\n",
    "def draw_map_with_legend():\n",
    "#     figure = gmaps.figure()\n",
    "\n",
    "    #Set the parameters of the map\n",
    "    figure_layout = {\n",
    "        'width': '400px',\n",
    "        'height': '400px',\n",
    "        'border': '1px solid black',\n",
    "        'padding': '1px'\n",
    "    }\n",
    "\n",
    "    #Set a base map of SF\n",
    "    san_francisco_coordinates = (37.773972, -122.431297)\n",
    "    #fig = gmaps.figure(center=san_francisco_coordinates, zoom_level=11.5, layout=figure_layout)\n",
    "    figure = gmaps.figure(layout=figure_layout)\n",
    "    \n",
    "    legend_entries = []\n",
    "    legend_restaurants = []\n",
    "\n",
    "    for irestaurant, restaurant in enumerate(restaurant_pd[\"Fast Food\"]):\n",
    "\n",
    "        #restaurant_data = restaurant_pd.loc[restaurant_pd[\"Fast Food\"] == restaurant]\n",
    "        locations = [[restaurant_pd.iloc[irestaurant][\"Latitude\"], restaurant_pd.iloc[irestaurant][\"Longitude\"]]]\n",
    "        \n",
    "        #use the average star rating of the restaurants as weights for the scale\n",
    "        weight = int(restaurant_pd.iloc[irestaurant][\"Rating\"])\n",
    "        \n",
    "        #get the color for the restaurant\n",
    "        color = colors[restaurant]\n",
    "        \n",
    "        #Plot the points\n",
    "        points_layer = gmaps.symbol_layer(\n",
    "            locations, \n",
    "            fill_color=color, \n",
    "            stroke_color=color, \n",
    "            fill_opacity=0.3,\n",
    "            stroke_opacity=0.7,\n",
    "            scale=weight*2\n",
    "        )\n",
    "        figure.add_layer(points_layer)\n",
    "        \n",
    "#         info_box_template = f\"\"\"\n",
    "#         <dl>\n",
    "#         <dt>Name</dt><dd>{restaurant}</dd>\n",
    "#         <dt>Average Rating</dt><dd>{restaurant_pd.iloc[irestaurant][\"Rating\"]}</dd>\n",
    "#         </dl>\n",
    "#         \"\"\"\n",
    "\n",
    "#         marker_layer = gmaps.marker_layer(locations, info_box_content=info_box_template)\n",
    "#         figure.add_layer(marker_layer)\n",
    "        \n",
    "        if restaurant not in legend_restaurants:\n",
    "            legend_entries.append(legend_template.format(color=color, restaurant=restaurant))\n",
    "            legend = widgets.HBox(\n",
    "                [widgets.HTML(legend_entry) for legend_entry in legend_entries],\n",
    "                layout=widgets.Layout(width='400px', justify_content='space-between')\n",
    "            )\n",
    "            legend_restaurants.append(restaurant)\n",
    "    return widgets.VBox([figure, legend])\n",
    "\n",
    "draw_map_with_legend()"
   ]
  },
  {
   "cell_type": "code",
   "execution_count": null,
   "metadata": {
    "collapsed": true
   },
   "outputs": [],
   "source": []
  }
 ],
 "metadata": {
  "kernelspec": {
   "display_name": "Python [conda env:PythonData]",
   "language": "python",
   "name": "conda-env-PythonData-py"
  },
  "language_info": {
   "codemirror_mode": {
    "name": "ipython",
    "version": 3
   },
   "file_extension": ".py",
   "mimetype": "text/x-python",
   "name": "python",
   "nbconvert_exporter": "python",
   "pygments_lexer": "ipython3",
   "version": "3.6.4"
  }
 },
 "nbformat": 4,
 "nbformat_minor": 2
}

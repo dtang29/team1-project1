{
 "cells": [
  {
   "cell_type": "code",
   "execution_count": 3,
   "metadata": {},
   "outputs": [],
   "source": [
    "# Dependencies\n",
    "# Dependencies\n",
    "import numpy as np\n",
    "#import tweepy\n",
    "import time\n",
    "import json\n",
    "#from config import consumer_key, consumer_secret, access_token, access_token_secret\n",
    "import matplotlib.pyplot as plt\n",
    "import pandas as pd"
   ]
  },
  {
   "cell_type": "code",
   "execution_count": 7,
   "metadata": {},
   "outputs": [
    {
     "name": "stdout",
     "output_type": "stream",
     "text": [
      "[\"McDonald's\" 'Burger King' \"Wendy's\" 'Chick-fil-A' 'Jack in the Box'\n",
      " 'Sonic' 'Dairy Queen' \"Carl's Jr.\" \"Hardee's\" 'White Castle'\n",
      " 'Whataburger' 'In-N-Out Burger']\n"
     ]
    }
   ],
   "source": [
    "#Import Nutrition Facts  from file \n",
    "# load CSV\n",
    "nutr_file = \"Nutrition Data for Fast Food 2017.csv\"\n",
    "nutr_pd = pd.read_csv(nutr_file, encoding='iso-8859-1', low_memory=False)\n",
    "restu_list=nutr_pd.Fast_Food_Restaurant.unique()\n",
    "print(restu_list)"
   ]
  },
  {
   "cell_type": "code",
   "execution_count": null,
   "metadata": {},
   "outputs": [],
   "source": [
    "#matplotlib of comparisons of Nutrition facts "
   ]
  },
  {
   "cell_type": "code",
   "execution_count": null,
   "metadata": {},
   "outputs": [],
   "source": [
    "# google maps API no of"
   ]
  },
  {
   "cell_type": "code",
   "execution_count": null,
   "metadata": {},
   "outputs": [],
   "source": [
    "# Yelp api "
   ]
  },
  {
   "cell_type": "code",
   "execution_count": null,
   "metadata": {},
   "outputs": [],
   "source": []
  }
 ],
 "metadata": {
  "kernelspec": {
   "display_name": "Python [conda env:PythonData]",
   "language": "python",
   "name": "conda-env-PythonData-py"
  },
  "language_info": {
   "codemirror_mode": {
    "name": "ipython",
    "version": 3
   },
   "file_extension": ".py",
   "mimetype": "text/x-python",
   "name": "python",
   "nbconvert_exporter": "python",
   "pygments_lexer": "ipython3",
   "version": "3.6.4"
  }
 },
 "nbformat": 4,
 "nbformat_minor": 2
}

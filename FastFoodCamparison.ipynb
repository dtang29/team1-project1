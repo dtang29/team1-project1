{
 "cells": [
  {
   "cell_type": "code",
   "execution_count": 13,
   "metadata": {
    "collapsed": true
   },
   "outputs": [],
   "source": [
    "# Dependencies\n",
    "# Dependencies\n",
    "import numpy as np\n",
    "#import tweepy\n",
    "import time\n",
    "import json\n",
    "import requests\n",
    "#from config import consumer_key, consumer_secret, access_token, access_token_secret\n",
    "from config import api_key\n",
    "import matplotlib.pyplot as plt\n",
    "import pandas as pd\n",
    "from pprint import pprint"
   ]
  },
  {
   "cell_type": "code",
   "execution_count": 14,
   "metadata": {},
   "outputs": [
    {
     "name": "stdout",
     "output_type": "stream",
     "text": [
      "[\"McDonald's\" 'Burger King' \"Wendy's\" 'Chick-fil-A' 'Jack in the Box'\n",
      " 'Sonic' 'Dairy Queen' \"Carl's Jr.\" \"Hardee's\" 'White Castle'\n",
      " 'Whataburger' 'In-N-Out Burger']\n"
     ]
    }
   ],
   "source": [
    "#Import Nutrition Facts  from file \n",
    "# load CSV\n",
    "nutr_file = \"Nutrition Data for Fast Food 2017.csv\"\n",
    "nutr_pd = pd.read_csv(nutr_file, encoding='iso-8859-1', low_memory=False)\n",
    "restu_list=nutr_pd.Fast_Food_Restaurant.unique()\n",
    "print(restu_list)"
   ]
  },
  {
   "cell_type": "code",
   "execution_count": 1,
   "metadata": {},
   "outputs": [
    {
     "ename": "NameError",
     "evalue": "name 'api_key' is not defined",
     "output_type": "error",
     "traceback": [
      "\u001b[0;31m---------------------------------------------------------------------------\u001b[0m",
      "\u001b[0;31mNameError\u001b[0m                                 Traceback (most recent call last)",
      "\u001b[0;32m<ipython-input-1-a43a33a12f84>\u001b[0m in \u001b[0;36m<module>\u001b[0;34m()\u001b[0m\n\u001b[1;32m      1\u001b[0m \u001b[0;31m#Set header for YelpFusion API\u001b[0m\u001b[0;34m\u001b[0m\u001b[0;34m\u001b[0m\u001b[0m\n\u001b[0;32m----> 2\u001b[0;31m \u001b[0mheaders\u001b[0m \u001b[0;34m=\u001b[0m \u001b[0;34m{\u001b[0m\u001b[0;34m'Authorization'\u001b[0m\u001b[0;34m:\u001b[0m \u001b[0;34m'Bearer {0}'\u001b[0m\u001b[0;34m.\u001b[0m\u001b[0mformat\u001b[0m\u001b[0;34m(\u001b[0m\u001b[0mapi_key\u001b[0m\u001b[0;34m)\u001b[0m\u001b[0;34m}\u001b[0m\u001b[0;34m\u001b[0m\u001b[0m\n\u001b[0m\u001b[1;32m      3\u001b[0m \u001b[0;34m\u001b[0m\u001b[0m\n\u001b[1;32m      4\u001b[0m \u001b[0;31m#set an empty list to append dictionary of each Fast Food and their rating\u001b[0m\u001b[0;34m\u001b[0m\u001b[0;34m\u001b[0m\u001b[0m\n\u001b[1;32m      5\u001b[0m \u001b[0mrestaurants_rating\u001b[0m \u001b[0;34m=\u001b[0m \u001b[0;34m[\u001b[0m\u001b[0;34m]\u001b[0m\u001b[0;34m\u001b[0m\u001b[0m\n",
      "\u001b[0;31mNameError\u001b[0m: name 'api_key' is not defined"
     ]
    }
   ],
   "source": [
    "#Set header for YelpFusion API\n",
    "headers = {'Authorization': 'Bearer {0}'.format(api_key)}\n",
    "\n",
    "#set an empty list to append dictionary of each Fast Food and their rating \n",
    "restaurants_rating = []\n",
    "\n",
    "#Loop through the restaurants to check if it exists in SF\n",
    "for restaurant in restu_list:\n",
    "    #Set parameters\n",
    "    params = {\n",
    "        \"term\": restaurant,\n",
    "        \"location\": \"San Francisco\",\n",
    "        \"state\": \"CA\",\n",
    "        \"country\": \"US\",\n",
    "        \"limit\": 30\n",
    "    }\n",
    "\n",
    "    # Build the endpoint URL (Checks all ice cream shops)\n",
    "    base_url = \"https://api.yelp.com/v3/businesses/search\"\n",
    "\n",
    "    # Run a request to endpoint and convert result to json\n",
    "    yelp_data = requests.get(base_url, params=params, headers=headers)\n",
    "    yelp_data = yelp_data.json()\n",
    "        \n",
    "    #Loop through all the businesses returned and find which restaurants are in SF    \n",
    "    for business in yelp_data['businesses']:\n",
    "        \n",
    "        #Using the business id, run a request via Yelp's Business Lookup to retrieve the city value\n",
    "        yelp_data_id = requests.get(f'https://api.yelp.com/v3/businesses/{business[\"id\"]}', headers=headers)\n",
    "        yelp_data_id = yelp_data_id.json()\n",
    "        \n",
    "        #Since the results returned are 'best matches', filter out all the restaurants that have the same name and is located in SF\n",
    "        if business['name'] in restaurant and yelp_data_id['location']['city'] == \"San Francisco\":\n",
    "            \n",
    "            #Append a dictionary containing the fast food and it's rating\n",
    "            restaurants_rating.append({\"Fast Food\": restaurant,\n",
    "                               \"Rating\": business['rating']})\n",
    "\n",
    "pprint(restaurants_rating)"
   ]
  },
  {
   "cell_type": "code",
   "execution_count": 17,
   "metadata": {},
   "outputs": [
    {
     "data": {
      "text/html": [
       "<div>\n",
       "<style scoped>\n",
       "    .dataframe tbody tr th:only-of-type {\n",
       "        vertical-align: middle;\n",
       "    }\n",
       "\n",
       "    .dataframe tbody tr th {\n",
       "        vertical-align: top;\n",
       "    }\n",
       "\n",
       "    .dataframe thead th {\n",
       "        text-align: right;\n",
       "    }\n",
       "</style>\n",
       "<table border=\"1\" class=\"dataframe\">\n",
       "  <thead>\n",
       "    <tr style=\"text-align: right;\">\n",
       "      <th></th>\n",
       "      <th>Average Rating</th>\n",
       "      <th>Number of Restaurants</th>\n",
       "    </tr>\n",
       "    <tr>\n",
       "      <th>Fast Food</th>\n",
       "      <th></th>\n",
       "      <th></th>\n",
       "    </tr>\n",
       "  </thead>\n",
       "  <tbody>\n",
       "    <tr>\n",
       "      <th>In-N-Out Burger</th>\n",
       "      <td>4.00</td>\n",
       "      <td>1</td>\n",
       "    </tr>\n",
       "    <tr>\n",
       "      <th>McDonald's</th>\n",
       "      <td>2.32</td>\n",
       "      <td>14</td>\n",
       "    </tr>\n",
       "    <tr>\n",
       "      <th>Carl's Jr.</th>\n",
       "      <td>2.00</td>\n",
       "      <td>2</td>\n",
       "    </tr>\n",
       "    <tr>\n",
       "      <th>Burger King</th>\n",
       "      <td>1.95</td>\n",
       "      <td>11</td>\n",
       "    </tr>\n",
       "  </tbody>\n",
       "</table>\n",
       "</div>"
      ],
      "text/plain": [
       "                Average Rating  Number of Restaurants\n",
       "Fast Food                                            \n",
       "In-N-Out Burger           4.00                      1\n",
       "McDonald's                2.32                     14\n",
       "Carl's Jr.                2.00                      2\n",
       "Burger King               1.95                     11"
      ]
     },
     "execution_count": 17,
     "metadata": {},
     "output_type": "execute_result"
    }
   ],
   "source": [
    "#Create a dataframe from the dictionary \n",
    "restaurant_pd = pd.DataFrame.from_dict(restaurants_rating)\n",
    "\n",
    "#write to csv\n",
    "restaurant_pd.to_csv(\"restaurant_results.csv\")\n",
    "\n",
    "#Group by the Fast Food\n",
    "restaurant_group = restaurant_pd.groupby(\"Fast Food\")\n",
    "\n",
    "#Get the average rating for each restaurant\n",
    "average_rating = restaurant_group[\"Rating\"].mean()\n",
    "\n",
    "#Get the number of restaurants\n",
    "num_restaurants = restaurant_group[\"Fast Food\"].count()\n",
    "\n",
    "#Create a new dataframe to hold the average rating and number of restaurants\n",
    "restaurant_df = pd.DataFrame({\"Average Rating\": average_rating.map(\"{:,.2f}\".format),\n",
    "                   \"Number of Restaurants\": num_restaurants})\n",
    "\n",
    "#Sort by Average Rating descending\n",
    "restaurant_df = restaurant_df.sort_values(\"Average Rating\", ascending=0)\n",
    "\n",
    "#Retrieve the columns in the order we want \n",
    "restaurant_df = restaurant_df[[\"Average Rating\",\"Number of Restaurants\"]]\n",
    "\n",
    "#Print out the final dataframe\n",
    "restaurant_df\n"
   ]
  },
  {
   "cell_type": "code",
   "execution_count": null,
   "metadata": {
    "collapsed": true
   },
   "outputs": [],
   "source": [
    "# Yelp api "
   ]
  },
  {
   "cell_type": "code",
   "execution_count": null,
   "metadata": {
    "collapsed": true
   },
   "outputs": [],
   "source": []
  }
 ],
 "metadata": {
  "kernelspec": {
   "display_name": "Python [conda env:PythonData]",
   "language": "python",
   "name": "conda-env-PythonData-py"
  },
  "language_info": {
   "codemirror_mode": {
    "name": "ipython",
    "version": 3
   },
   "file_extension": ".py",
   "mimetype": "text/x-python",
   "name": "python",
   "nbconvert_exporter": "python",
   "pygments_lexer": "ipython3",
   "version": "3.6.4"
  }
 },
 "nbformat": 4,
 "nbformat_minor": 2
}
